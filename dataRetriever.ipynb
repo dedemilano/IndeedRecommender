{
 "cells": [
  {
   "cell_type": "code",
   "execution_count": null,
   "metadata": {},
   "outputs": [],
   "source": [
    "from selenium import webdriver\n",
    "from selenium.webdriver.common.by import By\n",
    "from selenium.webdriver.chrome.service import Service\n",
    "from webdriver_manager.chrome import ChromeDriverManager\n",
    "from selenium.webdriver.common.keys import Keys\n",
    "import time\n",
    "\n",
    "# Configuration du navigateur Chrome\n",
    "service = Service(ChromeDriverManager().install())\n",
    "driver = webdriver.Chrome(service=service)\n",
    "\n",
    "# Ouvrir une page web\n",
    "url = \"https://example.com\"\n",
    "driver.get(url)\n",
    "\n",
    "# Attendre le chargement de la page\n",
    "time.sleep(3)\n",
    "\n",
    "# Exemple de collecte de données\n",
    "# Supposons que vous voulez extraire le texte de tous les éléments avec la classe 'example-class'\n",
    "elements = driver.find_elements(By.CLASS_NAME, \"example-class\")\n",
    "\n",
    "# Extraction des données\n",
    "for element in elements:\n",
    "    print(element.text)\n",
    "\n",
    "# Fermer le navigateur\n",
    "driver.quit()\n"
   ]
  }
 ],
 "metadata": {
  "language_info": {
   "name": "python"
  }
 },
 "nbformat": 4,
 "nbformat_minor": 2
}
